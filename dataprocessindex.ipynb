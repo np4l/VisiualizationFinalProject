{
 "cells": [
  {
   "cell_type": "code",
   "execution_count": 1,
   "metadata": {},
   "outputs": [],
   "source": [
    "import os\n",
    "import pandas as pd\n",
    "import numpy as np\n",
    "import datetime\n",
    "import tqdm\n",
    "from tqdm import trange\n",
    "import json"
   ]
  },
  {
   "cell_type": "code",
   "execution_count": 2,
   "metadata": {},
   "outputs": [],
   "source": [
    "df= pd.read_csv('t1.csv')"
   ]
  },
  {
   "cell_type": "code",
   "execution_count": 8,
   "metadata": {},
   "outputs": [
    {
     "data": {
      "text/html": [
       "<div>\n",
       "<style scoped>\n",
       "    .dataframe tbody tr th:only-of-type {\n",
       "        vertical-align: middle;\n",
       "    }\n",
       "\n",
       "    .dataframe tbody tr th {\n",
       "        vertical-align: top;\n",
       "    }\n",
       "\n",
       "    .dataframe thead th {\n",
       "        text-align: right;\n",
       "    }\n",
       "</style>\n",
       "<table border=\"1\" class=\"dataframe\">\n",
       "  <thead>\n",
       "    <tr style=\"text-align: right;\">\n",
       "      <th></th>\n",
       "      <th>Year</th>\n",
       "      <th>Provenceid</th>\n",
       "      <th>Provence</th>\n",
       "      <th>tGDP</th>\n",
       "      <th>first_num</th>\n",
       "      <th>second_num</th>\n",
       "      <th>third_num</th>\n",
       "      <th>first_por</th>\n",
       "      <th>second_por</th>\n",
       "      <th>third_por</th>\n",
       "      <th>avgpeople</th>\n",
       "    </tr>\n",
       "  </thead>\n",
       "  <tbody>\n",
       "    <tr>\n",
       "      <th>0</th>\n",
       "      <td>1987</td>\n",
       "      <td>142</td>\n",
       "      <td>中国</td>\n",
       "      <td>12174.599610</td>\n",
       "      <td>3204.500000</td>\n",
       "      <td>5274.000000</td>\n",
       "      <td>3696.199951</td>\n",
       "      <td>26.299999</td>\n",
       "      <td>43.299999</td>\n",
       "      <td>30.400000</td>\n",
       "      <td>1123.00000</td>\n",
       "    </tr>\n",
       "    <tr>\n",
       "      <th>1</th>\n",
       "      <td>1987</td>\n",
       "      <td>650000</td>\n",
       "      <td>新疆维吾尔自治区</td>\n",
       "      <td>148.509995</td>\n",
       "      <td>56.180000</td>\n",
       "      <td>50.299999</td>\n",
       "      <td>42.029999</td>\n",
       "      <td>37.829102</td>\n",
       "      <td>33.869801</td>\n",
       "      <td>28.301100</td>\n",
       "      <td>1053.00000</td>\n",
       "    </tr>\n",
       "    <tr>\n",
       "      <th>2</th>\n",
       "      <td>1987</td>\n",
       "      <td>370000</td>\n",
       "      <td>山东省</td>\n",
       "      <td>892.289978</td>\n",
       "      <td>287.309998</td>\n",
       "      <td>384.570007</td>\n",
       "      <td>220.410004</td>\n",
       "      <td>32.199200</td>\n",
       "      <td>43.099201</td>\n",
       "      <td>24.701599</td>\n",
       "      <td>1131.00000</td>\n",
       "    </tr>\n",
       "    <tr>\n",
       "      <th>3</th>\n",
       "      <td>1987</td>\n",
       "      <td>630000</td>\n",
       "      <td>青海省</td>\n",
       "      <td>43.380001</td>\n",
       "      <td>11.740000</td>\n",
       "      <td>16.610001</td>\n",
       "      <td>15.030000</td>\n",
       "      <td>27.063200</td>\n",
       "      <td>38.289501</td>\n",
       "      <td>34.647301</td>\n",
       "      <td>1018.00000</td>\n",
       "    </tr>\n",
       "    <tr>\n",
       "      <th>4</th>\n",
       "      <td>1987</td>\n",
       "      <td>500000</td>\n",
       "      <td>重庆市</td>\n",
       "      <td>190.350006</td>\n",
       "      <td>62.689999</td>\n",
       "      <td>78.349998</td>\n",
       "      <td>49.310001</td>\n",
       "      <td>32.934101</td>\n",
       "      <td>41.160999</td>\n",
       "      <td>25.904900</td>\n",
       "      <td>673.00000</td>\n",
       "    </tr>\n",
       "    <tr>\n",
       "      <th>...</th>\n",
       "      <td>...</td>\n",
       "      <td>...</td>\n",
       "      <td>...</td>\n",
       "      <td>...</td>\n",
       "      <td>...</td>\n",
       "      <td>...</td>\n",
       "      <td>...</td>\n",
       "      <td>...</td>\n",
       "      <td>...</td>\n",
       "      <td>...</td>\n",
       "      <td>...</td>\n",
       "    </tr>\n",
       "    <tr>\n",
       "      <th>1051</th>\n",
       "      <td>2019</td>\n",
       "      <td>460000</td>\n",
       "      <td>海南省</td>\n",
       "      <td>5308.930176</td>\n",
       "      <td>1080.359985</td>\n",
       "      <td>1099.030029</td>\n",
       "      <td>3129.540039</td>\n",
       "      <td>20.299999</td>\n",
       "      <td>20.700001</td>\n",
       "      <td>59.000000</td>\n",
       "      <td>56506.82813</td>\n",
       "    </tr>\n",
       "    <tr>\n",
       "      <th>1052</th>\n",
       "      <td>2019</td>\n",
       "      <td>430000</td>\n",
       "      <td>湖南省</td>\n",
       "      <td>39752.121090</td>\n",
       "      <td>3646.949951</td>\n",
       "      <td>14946.980470</td>\n",
       "      <td>21158.189450</td>\n",
       "      <td>9.200000</td>\n",
       "      <td>37.599998</td>\n",
       "      <td>53.200001</td>\n",
       "      <td>57540.26172</td>\n",
       "    </tr>\n",
       "    <tr>\n",
       "      <th>1053</th>\n",
       "      <td>2019</td>\n",
       "      <td>650000</td>\n",
       "      <td>新疆维吾尔自治区</td>\n",
       "      <td>13597.110350</td>\n",
       "      <td>1781.750000</td>\n",
       "      <td>4795.500000</td>\n",
       "      <td>7019.859863</td>\n",
       "      <td>13.100000</td>\n",
       "      <td>35.299999</td>\n",
       "      <td>51.599998</td>\n",
       "      <td>54280.00000</td>\n",
       "    </tr>\n",
       "    <tr>\n",
       "      <th>1054</th>\n",
       "      <td>2019</td>\n",
       "      <td>540000</td>\n",
       "      <td>西藏自治区</td>\n",
       "      <td>1697.819946</td>\n",
       "      <td>138.190002</td>\n",
       "      <td>635.619995</td>\n",
       "      <td>924.010010</td>\n",
       "      <td>8.200000</td>\n",
       "      <td>37.400002</td>\n",
       "      <td>54.400002</td>\n",
       "      <td>48902.00000</td>\n",
       "    </tr>\n",
       "    <tr>\n",
       "      <th>1055</th>\n",
       "      <td>2019</td>\n",
       "      <td>420000</td>\n",
       "      <td>湖北省</td>\n",
       "      <td>45828.308590</td>\n",
       "      <td>3809.090088</td>\n",
       "      <td>19098.619140</td>\n",
       "      <td>22920.599610</td>\n",
       "      <td>8.300000</td>\n",
       "      <td>41.700001</td>\n",
       "      <td>50.000000</td>\n",
       "      <td>77386.53906</td>\n",
       "    </tr>\n",
       "  </tbody>\n",
       "</table>\n",
       "<p>1056 rows × 11 columns</p>\n",
       "</div>"
      ],
      "text/plain": [
       "      Year  Provenceid  Provence          tGDP    first_num    second_num  \\\n",
       "0     1987         142        中国  12174.599610  3204.500000   5274.000000   \n",
       "1     1987      650000  新疆维吾尔自治区    148.509995    56.180000     50.299999   \n",
       "2     1987      370000       山东省    892.289978   287.309998    384.570007   \n",
       "3     1987      630000       青海省     43.380001    11.740000     16.610001   \n",
       "4     1987      500000       重庆市    190.350006    62.689999     78.349998   \n",
       "...    ...         ...       ...           ...          ...           ...   \n",
       "1051  2019      460000       海南省   5308.930176  1080.359985   1099.030029   \n",
       "1052  2019      430000       湖南省  39752.121090  3646.949951  14946.980470   \n",
       "1053  2019      650000  新疆维吾尔自治区  13597.110350  1781.750000   4795.500000   \n",
       "1054  2019      540000     西藏自治区   1697.819946   138.190002    635.619995   \n",
       "1055  2019      420000       湖北省  45828.308590  3809.090088  19098.619140   \n",
       "\n",
       "         third_num  first_por  second_por  third_por    avgpeople  \n",
       "0      3696.199951  26.299999   43.299999  30.400000   1123.00000  \n",
       "1        42.029999  37.829102   33.869801  28.301100   1053.00000  \n",
       "2       220.410004  32.199200   43.099201  24.701599   1131.00000  \n",
       "3        15.030000  27.063200   38.289501  34.647301   1018.00000  \n",
       "4        49.310001  32.934101   41.160999  25.904900    673.00000  \n",
       "...            ...        ...         ...        ...          ...  \n",
       "1051   3129.540039  20.299999   20.700001  59.000000  56506.82813  \n",
       "1052  21158.189450   9.200000   37.599998  53.200001  57540.26172  \n",
       "1053   7019.859863  13.100000   35.299999  51.599998  54280.00000  \n",
       "1054    924.010010   8.200000   37.400002  54.400002  48902.00000  \n",
       "1055  22920.599610   8.300000   41.700001  50.000000  77386.53906  \n",
       "\n",
       "[1056 rows x 11 columns]"
      ]
     },
     "execution_count": 8,
     "metadata": {},
     "output_type": "execute_result"
    }
   ],
   "source": [
    "df"
   ]
  },
  {
   "cell_type": "code",
   "execution_count": 30,
   "metadata": {},
   "outputs": [],
   "source": [
    "#tdict用来转换查表得值，dict用来存储\n",
    "tdict = { '新疆维吾尔自治区': 0, '西藏自治区': 1, '内蒙古自治区': 2, '青海省': 3, '四川省': 4, '黑龙江省': 5, '甘肃省': 6, '云南省': 7, '广西壮族自治区': 8, '湖南省': 9, '陕西省': 10, '广东省': 11, '吉林省': 12, '河北省': 13, '湖北省': 14, '贵州省': 15, '山东省': 16, '江西省': 17, '河南省': 18, '辽宁省': 19, '山西省': 20, '安徽省': 21, '福建省': 22, '浙江省': 23, '江苏省': 24, '重庆市': 25, '宁夏回族自治区': 26, '海南省': 27, '台湾省': 28, '北京市': 29, '天津市': 30, '上海市': 31, '香港': 32, '澳门': 33 ,'中国':34}\n",
    "dict= {'新疆': 0, '西藏': 1, '内蒙古': 2, '青海': 3, '四川': 4, '黑龙江': 5, '甘肃': 6, '云南': 7, '广西': 8, '湖南': 9, '陕西': 10, '广东': 11, '吉林': 12, '河北': 13, '湖北': 14, '贵州': 15, '山东': 16, '江西': 17, '河南': 18, '辽宁': 19, '山西': 20, '安徽': 21, '福建': 22, '浙江': 23, '江苏': 24, '重庆': 25, '宁夏': 26, '海南': 27, '台湾': 28, '北京': 29, '天津': 30, '上海': 31, '香港': 32, '澳门': 33,'中国':34}"
   ]
  },
  {
   "cell_type": "code",
   "execution_count": 31,
   "metadata": {},
   "outputs": [
    {
     "data": {
      "text/plain": [
       "['新疆',\n",
       " '西藏',\n",
       " '内蒙古',\n",
       " '青海',\n",
       " '四川',\n",
       " '黑龙江',\n",
       " '甘肃',\n",
       " '云南',\n",
       " '广西',\n",
       " '湖南',\n",
       " '陕西',\n",
       " '广东',\n",
       " '吉林',\n",
       " '河北',\n",
       " '湖北',\n",
       " '贵州',\n",
       " '山东',\n",
       " '江西',\n",
       " '河南',\n",
       " '辽宁',\n",
       " '山西',\n",
       " '安徽',\n",
       " '福建',\n",
       " '浙江',\n",
       " '江苏',\n",
       " '重庆',\n",
       " '宁夏',\n",
       " '海南',\n",
       " '台湾',\n",
       " '北京',\n",
       " '天津',\n",
       " '上海',\n",
       " '香港',\n",
       " '澳门',\n",
       " '中国']"
      ]
     },
     "execution_count": 31,
     "metadata": {},
     "output_type": "execute_result"
    }
   ],
   "source": [
    "list=[]\n",
    "for key,value in dict.items():\n",
    "    list+=[key]\n",
    "list"
   ]
  },
  {
   "cell_type": "code",
   "execution_count": 32,
   "metadata": {},
   "outputs": [
    {
     "data": {
      "text/plain": [
       "['新疆维吾尔自治区',\n",
       " '西藏自治区',\n",
       " '内蒙古自治区',\n",
       " '青海省',\n",
       " '四川省',\n",
       " '黑龙江省',\n",
       " '甘肃省',\n",
       " '云南省',\n",
       " '广西壮族自治区',\n",
       " '湖南省',\n",
       " '陕西省',\n",
       " '广东省',\n",
       " '吉林省',\n",
       " '河北省',\n",
       " '湖北省',\n",
       " '贵州省',\n",
       " '山东省',\n",
       " '江西省',\n",
       " '河南省',\n",
       " '辽宁省',\n",
       " '山西省',\n",
       " '安徽省',\n",
       " '福建省',\n",
       " '浙江省',\n",
       " '江苏省',\n",
       " '重庆市',\n",
       " '宁夏回族自治区',\n",
       " '海南省',\n",
       " '台湾省',\n",
       " '北京市',\n",
       " '天津市',\n",
       " '上海市',\n",
       " '香港',\n",
       " '澳门',\n",
       " '中国']"
      ]
     },
     "execution_count": 32,
     "metadata": {},
     "output_type": "execute_result"
    }
   ],
   "source": [
    "tlist=[]\n",
    "for key,value in tdict.items():\n",
    "    tlist+=[key]\n",
    "tlist"
   ]
  },
  {
   "cell_type": "code",
   "execution_count": 33,
   "metadata": {},
   "outputs": [
    {
     "data": {
      "text/plain": [
       "Index(['Year', 'Provenceid', 'Provence', 'tGDP', 'first_num', 'second_num',\n",
       "       'third_num', 'first_por', 'second_por', 'third_por', 'avgpeople'],\n",
       "      dtype='object')"
      ]
     },
     "execution_count": 33,
     "metadata": {},
     "output_type": "execute_result"
    }
   ],
   "source": [
    "df.columns"
   ]
  },
  {
   "cell_type": "code",
   "execution_count": 34,
   "metadata": {},
   "outputs": [],
   "source": [
    "tdf=pd.DataFrame(columns=df.columns)"
   ]
  },
  {
   "cell_type": "code",
   "execution_count": 26,
   "metadata": {},
   "outputs": [
    {
     "data": {
      "text/html": [
       "<div>\n",
       "<style scoped>\n",
       "    .dataframe tbody tr th:only-of-type {\n",
       "        vertical-align: middle;\n",
       "    }\n",
       "\n",
       "    .dataframe tbody tr th {\n",
       "        vertical-align: top;\n",
       "    }\n",
       "\n",
       "    .dataframe thead th {\n",
       "        text-align: right;\n",
       "    }\n",
       "</style>\n",
       "<table border=\"1\" class=\"dataframe\">\n",
       "  <thead>\n",
       "    <tr style=\"text-align: right;\">\n",
       "      <th></th>\n",
       "      <th>Year</th>\n",
       "      <th>Provenceid</th>\n",
       "      <th>Provence</th>\n",
       "      <th>tGDP</th>\n",
       "      <th>first_num</th>\n",
       "      <th>second_num</th>\n",
       "      <th>third_num</th>\n",
       "      <th>first_por</th>\n",
       "      <th>second_por</th>\n",
       "      <th>third_por</th>\n",
       "      <th>avgpeople</th>\n",
       "    </tr>\n",
       "  </thead>\n",
       "  <tbody>\n",
       "  </tbody>\n",
       "</table>\n",
       "</div>"
      ],
      "text/plain": [
       "Empty DataFrame\n",
       "Columns: [Year, Provenceid, Provence, tGDP, first_num, second_num, third_num, first_por, second_por, third_por, avgpeople]\n",
       "Index: []"
      ]
     },
     "execution_count": 26,
     "metadata": {},
     "output_type": "execute_result"
    }
   ],
   "source": [
    "tdf"
   ]
  },
  {
   "cell_type": "code",
   "execution_count": 20,
   "metadata": {},
   "outputs": [
    {
     "data": {
      "text/plain": [
       "142"
      ]
     },
     "execution_count": 20,
     "metadata": {},
     "output_type": "execute_result"
    }
   ],
   "source": [
    "df['Provenceid'][0]"
   ]
  },
  {
   "cell_type": "code",
   "execution_count": 35,
   "metadata": {},
   "outputs": [],
   "source": [
    "bisa=1987\n",
    "for i in range(1987,2020):\n",
    "    curdf=df.loc[df['Year']==i]\n",
    "    for  index,value in enumerate(list):\n",
    "        if value in ['台湾','澳门','香港']:\n",
    "            res=[i,0,value,0,0,0,0,0,0,0,0]\n",
    "        else:\n",
    "            ccurdf=curdf.loc[curdf['Provence']==tlist[index]]\n",
    "            res=[i]\n",
    "            res+=[0]\n",
    "            res+=[value]\n",
    "            res+=[float(ccurdf['tGDP'])]\n",
    "            res+=[float(ccurdf['first_num'])]\n",
    "            res+=[float(ccurdf['second_num'])]\n",
    "            res+=[float(ccurdf['third_num'])]\n",
    "            res+=[float(ccurdf['first_por'])]\n",
    "            res+=[float(ccurdf['second_por'])]\n",
    "            res+=[float(ccurdf['third_por'])]\n",
    "            res+=[float(ccurdf['avgpeople'])]\n",
    "        tdf.loc[len(tdf)]=res\n",
    "        "
   ]
  },
  {
   "cell_type": "code",
   "execution_count": 39,
   "metadata": {},
   "outputs": [
    {
     "name": "stdout",
     "output_type": "stream",
     "text": [
      "107671.0703\n"
     ]
    }
   ],
   "source": [
    "print(max(tdf.loc[tdf['Provence']!='中国']['tGDP']))"
   ]
  },
  {
   "cell_type": "code",
   "execution_count": 37,
   "metadata": {},
   "outputs": [],
   "source": [
    "tdf.to_csv('data.csv',index=False)"
   ]
  }
 ],
 "metadata": {
  "kernelspec": {
   "display_name": "Python 3.10.0 64-bit",
   "language": "python",
   "name": "python3"
  },
  "language_info": {
   "codemirror_mode": {
    "name": "ipython",
    "version": 3
   },
   "file_extension": ".py",
   "mimetype": "text/x-python",
   "name": "python",
   "nbconvert_exporter": "python",
   "pygments_lexer": "ipython3",
   "version": "3.10.0"
  },
  "orig_nbformat": 4,
  "vscode": {
   "interpreter": {
    "hash": "096f7ce2c247cf2bb3d61505ab590c394be30c514816090f8341b887b05c1b10"
   }
  }
 },
 "nbformat": 4,
 "nbformat_minor": 2
}
